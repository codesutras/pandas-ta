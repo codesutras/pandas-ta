{
 "cells": [
  {
   "cell_type": "markdown",
   "metadata": {},
   "source": [
    "# Pandas TA ([pandas_ta](https://github.com/twopirllc/pandas-ta)) Strategies for Custom Technical Analysis\n",
    "\n",
    "## Topics\n",
    "- What is a Pandas TA Strategy?\n",
    "    - Builtin Strategies: __AllStrategy__ and __CommonStrategy__\n",
    "    - Creating Strategies\n",
    "- Watchlist Class\n",
    "    - Strategy Management and Execution\n",
    "- Indicator Composition/Chaining for more Complex Strategies\n",
    "    - Comprehensive Example: _MACD and RSI Momo with BBANDS and SMAs 50 & 200 and Cumulative Log Returns_"
   ]
  },
  {
   "cell_type": "code",
   "execution_count": 1,
   "metadata": {},
   "outputs": [
    {
     "name": "stdout",
     "output_type": "stream",
     "text": [
      "Populating the interactive namespace from numpy and matplotlib\n"
     ]
    }
   ],
   "source": [
    "%matplotlib inline\n",
    "import datetime as dt\n",
    "\n",
    "import pandas as pd\n",
    "import pandas_ta as ta\n",
    "from alphaVantageAPI.alphavantage import AlphaVantage  # pip install alphaVantage-api\n",
    "\n",
    "from watchlist import Watchlist\n",
    "%pylab inline"
   ]
  },
  {
   "cell_type": "markdown",
   "metadata": {},
   "source": [
    "# What is a Pandas TA Strategy?\n",
    "A _Strategy_ is a simple way to name and group your favorite TA indicators. Technically, a _Strategy_ is a simple Data Class to contain list of indicators and their parameters. __Note__: _Strategy_ is experimental and subject to change. Pandas TA comes with two basic Strategies: __AllStrategy__ and __CommonStrategy__.\n",
    "\n",
    "## Strategy Requirements:\n",
    "- _name_: Some short memorable string.  _Note_: Case-insensitive \"All\" is reserved.\n",
    "- _ta_: A list of dicts containing keyword arguments to identify the indicator and the indicator's arguments\n",
    "\n",
    "## Optional Requirements:\n",
    "- _description_: A more detailed description of what the Strategy tries to capture. Default: None\n",
    "- _created_: At datetime string of when it was created. Default: Automatically generated.\n",
    "\n",
    "### Things to note:\n",
    "- A Strategy will __fail__ when consumed by Pandas TA if there is no {\"kind\": \"indicator name\"} attribute."
   ]
  },
  {
   "cell_type": "markdown",
   "metadata": {},
   "source": [
    "# Builtin Examples"
   ]
  },
  {
   "cell_type": "markdown",
   "metadata": {},
   "source": [
    "### All"
   ]
  },
  {
   "cell_type": "code",
   "execution_count": 2,
   "metadata": {},
   "outputs": [
    {
     "name": "stdout",
     "output_type": "stream",
     "text": [
      "name = All\n",
      "description = All the indicators with their default settings. Pandas TA default.\n",
      "created = 09/27/2020, 09:24:11\n",
      "ta = None\n"
     ]
    }
   ],
   "source": [
    "AllStrategy = ta.AllStrategy\n",
    "print(\"name =\", AllStrategy.name)\n",
    "print(\"description =\", AllStrategy.description)\n",
    "print(\"created =\", AllStrategy.created)\n",
    "print(\"ta =\", AllStrategy.ta)"
   ]
  },
  {
   "cell_type": "markdown",
   "metadata": {},
   "source": [
    "### Common"
   ]
  },
  {
   "cell_type": "code",
   "execution_count": 3,
   "metadata": {},
   "outputs": [
    {
     "name": "stdout",
     "output_type": "stream",
     "text": [
      "name = Common Price and Volume SMAs\n",
      "description = Common Price SMAs: 10, 20, 50, 200 and Volume SMA: 20.\n",
      "created = 09/27/2020, 09:24:11\n",
      "ta = [{'kind': 'sma', 'length': 10}, {'kind': 'sma', 'length': 20}, {'kind': 'sma', 'length': 50}, {'kind': 'sma', 'length': 200}, {'kind': 'sma', 'close': 'volume', 'length': 20, 'prefix': 'VOL'}]\n"
     ]
    }
   ],
   "source": [
    "CommonStrategy = ta.CommonStrategy\n",
    "print(\"name =\", CommonStrategy.name)\n",
    "print(\"description =\", CommonStrategy.description)\n",
    "print(\"created =\", CommonStrategy.created)\n",
    "print(\"ta =\", CommonStrategy.ta)"
   ]
  },
  {
   "cell_type": "code",
   "execution_count": null,
   "metadata": {},
   "outputs": [],
   "source": []
  },
  {
   "cell_type": "markdown",
   "metadata": {},
   "source": [
    "# Creating Strategies"
   ]
  },
  {
   "cell_type": "markdown",
   "metadata": {},
   "source": [
    "### Simple Strategy A"
   ]
  },
  {
   "cell_type": "code",
   "execution_count": 4,
   "metadata": {},
   "outputs": [
    {
     "data": {
      "text/plain": [
       "Strategy(name='A', ta=[{'kind': 'sma', 'length': 50}, {'kind': 'sma', 'length': 200}], description=None, created='09/27/2020, 09:24:11')"
      ]
     },
     "execution_count": 4,
     "metadata": {},
     "output_type": "execute_result"
    }
   ],
   "source": [
    "custom_a = ta.Strategy(name=\"A\", ta=[{\"kind\": \"sma\", \"length\": 50}, {\"kind\": \"sma\", \"length\": 200}])\n",
    "custom_a"
   ]
  },
  {
   "cell_type": "markdown",
   "metadata": {},
   "source": [
    "### Simple Strategy B"
   ]
  },
  {
   "cell_type": "code",
   "execution_count": 5,
   "metadata": {},
   "outputs": [
    {
     "data": {
      "text/plain": [
       "Strategy(name='B', ta=[{'kind': 'ema', 'length': 8}, {'kind': 'ema', 'length': 21}, {'kind': 'log_return', 'cumulative': True}, {'kind': 'rsi'}, {'kind': 'supertrend'}], description=None, created='09/27/2020, 09:24:11')"
      ]
     },
     "execution_count": 5,
     "metadata": {},
     "output_type": "execute_result"
    }
   ],
   "source": [
    "custom_b = ta.Strategy(name=\"B\", ta=[{\"kind\": \"ema\", \"length\": 8}, {\"kind\": \"ema\", \"length\": 21}, {\"kind\": \"log_return\", \"cumulative\": True}, {\"kind\": \"rsi\"}, {\"kind\": \"supertrend\"}])\n",
    "custom_b"
   ]
  },
  {
   "cell_type": "markdown",
   "metadata": {},
   "source": [
    "### Bad Strategy. (Misspelled Indicator)"
   ]
  },
  {
   "cell_type": "code",
   "execution_count": 6,
   "metadata": {},
   "outputs": [
    {
     "data": {
      "text/plain": [
       "Strategy(name='Runtime Failure', ta=[{'kind': 'percet_return'}], description=None, created='09/27/2020, 09:24:11')"
      ]
     },
     "execution_count": 6,
     "metadata": {},
     "output_type": "execute_result"
    }
   ],
   "source": [
    "# Misspelled indicator, will fail later when ran with Pandas\n",
    "custom_run_failure = ta.Strategy(name=\"Runtime Failure\", ta=[{\"kind\": \"percet_return\"}])\n",
    "custom_run_failure"
   ]
  },
  {
   "cell_type": "code",
   "execution_count": null,
   "metadata": {},
   "outputs": [],
   "source": []
  },
  {
   "cell_type": "markdown",
   "metadata": {},
   "source": [
    "# Strategy Management and Execution with _Watchlist_"
   ]
  },
  {
   "cell_type": "markdown",
   "metadata": {},
   "source": [
    "### Initialize AlphaVantage Data Source"
   ]
  },
  {
   "cell_type": "code",
   "execution_count": 7,
   "metadata": {},
   "outputs": [
    {
     "data": {
      "text/plain": [
       "AlphaVantage(\n",
       "  end_point:str = https://www.alphavantage.co/query,\n",
       "  api_key:str = YOUR API KEY,\n",
       "  export:bool = True,\n",
       "  export_path:str = .,\n",
       "  output_size:str = full,\n",
       "  output:str = csv,\n",
       "  datatype:str = json,\n",
       "  clean:bool = True,\n",
       "  proxy:dict = {}\n",
       ")"
      ]
     },
     "execution_count": 7,
     "metadata": {},
     "output_type": "execute_result"
    }
   ],
   "source": [
    "AV = AlphaVantage(\n",
    "    api_key=\"YOUR API KEY\", premium=False,\n",
    "    output_size='full', clean=True,\n",
    "    export_path=\".\", export=True\n",
    ")\n",
    "AV"
   ]
  },
  {
   "cell_type": "markdown",
   "metadata": {},
   "source": [
    "### Create Watchlist and set it's 'ds' to AlphaVantage"
   ]
  },
  {
   "cell_type": "code",
   "execution_count": 8,
   "metadata": {},
   "outputs": [],
   "source": [
    "watch = Watchlist([\"SPY\", \"IWM\"])"
   ]
  },
  {
   "cell_type": "markdown",
   "metadata": {},
   "source": [
    "#### Info about the Watchlist. Note, the default Strategy is \"All\""
   ]
  },
  {
   "cell_type": "code",
   "execution_count": 9,
   "metadata": {},
   "outputs": [
    {
     "data": {
      "text/plain": [
       "Watch(name='Watch: SPY, IWM', tickers[2]='SPY, IWM', tf='D', strategy[5]='Common Price and Volume SMAs')"
      ]
     },
     "execution_count": 9,
     "metadata": {},
     "output_type": "execute_result"
    }
   ],
   "source": [
    "watch"
   ]
  },
  {
   "cell_type": "markdown",
   "metadata": {},
   "source": [
    "### Help about Watchlist"
   ]
  },
  {
   "cell_type": "code",
   "execution_count": 10,
   "metadata": {},
   "outputs": [
    {
     "name": "stdout",
     "output_type": "stream",
     "text": [
      "Help on class Watchlist in module watchlist:\n",
      "\n",
      "class Watchlist(builtins.object)\n",
      " |  Watchlist(tickers: list, tf: str = None, name: str = None, strategy: pandas_ta.core.Strategy = None, ds: object = None, **kwargs)\n",
      " |  \n",
      " |  # Watchlist Class (** This is subject to change! **)\n",
      " |  A simple Class to load/download financial market data and automatically\n",
      " |  apply Technical Analysis indicators with a Pandas TA Strategy.\n",
      " |  \n",
      " |  Default Strategy: pandas_ta.CommonStrategy\n",
      " |  \n",
      " |  ## Package Support:\n",
      " |  ### Data Source (Default: AlphaVantage)\n",
      " |  - AlphaVantage (pip install alphaVantage-api).\n",
      " |  - Python Binance (pip install python-binance). # Future Support\n",
      " |  - Yahoo Finance (pip install yfinance). # Almost Supported\n",
      " |  \n",
      " |  # Technical Analysis:\n",
      " |  - Pandas TA (pip install pandas_ta)\n",
      " |  \n",
      " |  ## Required Arguments:\n",
      " |  - tickers: A list of strings containing tickers. Example: [\"SPY\", \"AAPL\"]\n",
      " |  \n",
      " |  Methods defined here:\n",
      " |  \n",
      " |  __init__(self, tickers: list, tf: str = None, name: str = None, strategy: pandas_ta.core.Strategy = None, ds: object = None, **kwargs)\n",
      " |      Initialize self.  See help(type(self)) for accurate signature.\n",
      " |  \n",
      " |  __repr__(self) -> str\n",
      " |      Return repr(self).\n",
      " |  \n",
      " |  indicators(self, *args, **kwargs) -> <built-in function any>\n",
      " |      Returns the list of indicators that are available with Pandas Ta.\n",
      " |  \n",
      " |  load(self, ticker: str = None, tf: str = None, index: str = 'date', drop: list = ['dividend', 'split_coefficient'], **kwargs) -> pandas.core.frame.DataFrame\n",
      " |      Loads or Downloads (if a local csv does not exist) the data from the\n",
      " |      Data Source. When successful, it returns a Data Frame for the requested\n",
      " |      ticker. If no tickers are given, it loads all the tickers.\n",
      " |  \n",
      " |  ----------------------------------------------------------------------\n",
      " |  Data descriptors defined here:\n",
      " |  \n",
      " |  __dict__\n",
      " |      dictionary for instance variables (if defined)\n",
      " |  \n",
      " |  __weakref__\n",
      " |      list of weak references to the object (if defined)\n",
      " |  \n",
      " |  data\n",
      " |      When not None, it contains a dictionary of DataFrames keyed by ticker. data = {\"SPY\": pd.DataFrame, ...}\n",
      " |  \n",
      " |  name\n",
      " |      The name of the Watchlist. Default: \"Watchlist: {Watchlist.tickers}\".\n",
      " |  \n",
      " |  strategy\n",
      " |      Sets a valid Strategy. Default: pandas_ta.CommonStrategy\n",
      " |  \n",
      " |  tf\n",
      " |      Alias for timeframe. Default: 'D'\n",
      " |  \n",
      " |  tickers\n",
      " |      tickers\n",
      " |      \n",
      " |      If a string, it it converted to a list. Example: \"AAPL\" -> [\"AAPL\"]\n",
      " |          * Does not accept, comma seperated strings.\n",
      " |      If a list, checks if it is a list of strings.\n",
      " |  \n",
      " |  verbose\n",
      " |      Toggle the verbose property. Default: False\n",
      "\n"
     ]
    }
   ],
   "source": [
    "help(Watchlist)"
   ]
  },
  {
   "cell_type": "markdown",
   "metadata": {},
   "source": [
    "### Default Strategy is \"Common\""
   ]
  },
  {
   "cell_type": "code",
   "execution_count": 11,
   "metadata": {},
   "outputs": [
    {
     "name": "stdout",
     "output_type": "stream",
     "text": [
      "[!] Loading All: SPY, IWM\n",
      "[i] Loaded['D']: SPY_D.csv\n",
      "[+] Strategy: Common Price and Volume SMAs\n",
      "[i] Indicator arguments: {'timed': False, 'append': True}\n",
      "[i] Multiprocessing: 4 of 4 cores.\n",
      "[i] Total indicators: 5\n",
      "[i] Columns added: 5\n",
      "[i] Loaded['D']: IWM_D.csv\n",
      "[+] Strategy: Common Price and Volume SMAs\n",
      "[i] Indicator arguments: {'timed': False, 'append': True}\n",
      "[i] Multiprocessing: 4 of 4 cores.\n",
      "[i] Total indicators: 5\n",
      "[i] Columns added: 5\n"
     ]
    }
   ],
   "source": [
    "# No arguments loads all the tickers and applies the Strategy to each ticker.\n",
    "# The result can be accessed with Watchlist's 'data' property which returns a \n",
    "# dictionary keyed by ticker and DataFrames as values \n",
    "watch.load(verbose=True, timed=False)"
   ]
  },
  {
   "cell_type": "code",
   "execution_count": 12,
   "metadata": {},
   "outputs": [
    {
     "data": {
      "text/plain": [
       "{'SPY':                 open      high       low     close      volume   SMA_10  \\\n",
       " date                                                                      \n",
       " 1999-11-01  136.5000  137.0000  135.5625  135.5625   4006500.0      NaN   \n",
       " 1999-11-02  135.9687  137.2500  134.5937  134.5937   6516900.0      NaN   \n",
       " 1999-11-03  136.0000  136.3750  135.1250  135.5000   7222300.0      NaN   \n",
       " 1999-11-04  136.7500  137.3593  135.7656  136.5312   7907500.0      NaN   \n",
       " 1999-11-05  138.6250  139.1093  136.7812  137.8750   7431500.0      NaN   \n",
       " ...              ...       ...       ...       ...         ...      ...   \n",
       " 2020-09-21  325.7000  327.1300  321.7300  326.9700  99450829.0  335.186   \n",
       " 2020-09-22  328.5700  330.9000  325.8600  330.3000  63612107.0  334.895   \n",
       " 2020-09-23  330.9000  331.2000  322.1000  322.6400  93112240.0  333.180   \n",
       " 2020-09-24  321.2200  326.7970  319.8000  323.5000  76681332.0  332.141   \n",
       " 2020-09-25  322.5800  329.5800  321.6400  328.7300  68610432.0  331.608   \n",
       " \n",
       "               SMA_20    SMA_50    SMA_200   VOL_SMA_20  \n",
       " date                                                    \n",
       " 1999-11-01       NaN       NaN        NaN          NaN  \n",
       " 1999-11-02       NaN       NaN        NaN          NaN  \n",
       " 1999-11-03       NaN       NaN        NaN          NaN  \n",
       " 1999-11-04       NaN       NaN        NaN          NaN  \n",
       " 1999-11-05       NaN       NaN        NaN          NaN  \n",
       " ...              ...       ...        ...          ...  \n",
       " 2020-09-21  341.6475  334.0394  309.95180  80051929.15  \n",
       " 2020-09-22  341.0165  334.3486  310.04320  80803101.40  \n",
       " 2020-09-23  339.9425  334.4230  310.08205  83535544.35  \n",
       " 2020-09-24  338.7390  334.4560  310.13015  84830099.10  \n",
       " 2020-09-25  337.7590  334.6148  310.20615  85358913.60  \n",
       " \n",
       " [5260 rows x 10 columns],\n",
       " 'IWM':               open     high     low   close      volume   SMA_10    SMA_20  \\\n",
       " date                                                                         \n",
       " 2000-05-26   91.06   91.440   90.63   91.44     37400.0      NaN       NaN   \n",
       " 2000-05-30   92.75   94.810   92.75   94.81     28800.0      NaN       NaN   \n",
       " 2000-05-31   95.13   96.380   95.13   95.75     18000.0      NaN       NaN   \n",
       " 2000-06-01   97.11   97.310   97.11   97.31      3500.0      NaN       NaN   \n",
       " 2000-06-02  101.70  102.400  101.70  102.40     14700.0      NaN       NaN   \n",
       " ...            ...      ...     ...     ...         ...      ...       ...   \n",
       " 2020-09-21  149.82  150.255  146.33  147.92  40652521.0  151.746  153.8055   \n",
       " 2020-09-22  148.65  149.300  146.56  149.06  19385790.0  151.666  153.4470   \n",
       " 2020-09-23  148.41  149.430  143.98  144.07  33403387.0  150.860  152.8305   \n",
       " 2020-09-24  144.04  146.530  142.09  144.07  31723749.0  150.252  152.2630   \n",
       " 2020-09-25  143.44  146.850  143.35  146.41  20689266.0  149.978  151.7935   \n",
       " \n",
       "               SMA_50    SMA_200   VOL_SMA_20  \n",
       " date                                          \n",
       " 2000-05-26       NaN        NaN          NaN  \n",
       " 2000-05-30       NaN        NaN          NaN  \n",
       " 2000-05-31       NaN        NaN          NaN  \n",
       " 2000-06-01       NaN        NaN          NaN  \n",
       " 2000-06-02       NaN        NaN          NaN  \n",
       " ...              ...        ...          ...  \n",
       " 2020-09-21  152.0930  145.33285  21738963.00  \n",
       " 2020-09-22  152.2838  145.27345  22022895.70  \n",
       " 2020-09-23  152.3286  145.17970  22879582.20  \n",
       " 2020-09-24  152.2694  145.08750  23777133.35  \n",
       " 2020-09-25  152.2744  145.00650  23936178.00  \n",
       " \n",
       " [5116 rows x 10 columns]}"
      ]
     },
     "execution_count": 12,
     "metadata": {},
     "output_type": "execute_result"
    }
   ],
   "source": [
    "watch.data"
   ]
  },
  {
   "cell_type": "markdown",
   "metadata": {},
   "source": [
    "### "
   ]
  },
  {
   "cell_type": "code",
   "execution_count": 13,
   "metadata": {},
   "outputs": [
    {
     "data": {
      "text/html": [
       "<div>\n",
       "<style scoped>\n",
       "    .dataframe tbody tr th:only-of-type {\n",
       "        vertical-align: middle;\n",
       "    }\n",
       "\n",
       "    .dataframe tbody tr th {\n",
       "        vertical-align: top;\n",
       "    }\n",
       "\n",
       "    .dataframe thead th {\n",
       "        text-align: right;\n",
       "    }\n",
       "</style>\n",
       "<table border=\"1\" class=\"dataframe\">\n",
       "  <thead>\n",
       "    <tr style=\"text-align: right;\">\n",
       "      <th></th>\n",
       "      <th>open</th>\n",
       "      <th>high</th>\n",
       "      <th>low</th>\n",
       "      <th>close</th>\n",
       "      <th>volume</th>\n",
       "      <th>SMA_10</th>\n",
       "      <th>SMA_20</th>\n",
       "      <th>SMA_50</th>\n",
       "      <th>SMA_200</th>\n",
       "      <th>VOL_SMA_20</th>\n",
       "    </tr>\n",
       "    <tr>\n",
       "      <th>date</th>\n",
       "      <th></th>\n",
       "      <th></th>\n",
       "      <th></th>\n",
       "      <th></th>\n",
       "      <th></th>\n",
       "      <th></th>\n",
       "      <th></th>\n",
       "      <th></th>\n",
       "      <th></th>\n",
       "      <th></th>\n",
       "    </tr>\n",
       "  </thead>\n",
       "  <tbody>\n",
       "    <tr>\n",
       "      <th>1999-11-01</th>\n",
       "      <td>136.5000</td>\n",
       "      <td>137.0000</td>\n",
       "      <td>135.5625</td>\n",
       "      <td>135.5625</td>\n",
       "      <td>4006500.0</td>\n",
       "      <td>NaN</td>\n",
       "      <td>NaN</td>\n",
       "      <td>NaN</td>\n",
       "      <td>NaN</td>\n",
       "      <td>NaN</td>\n",
       "    </tr>\n",
       "    <tr>\n",
       "      <th>1999-11-02</th>\n",
       "      <td>135.9687</td>\n",
       "      <td>137.2500</td>\n",
       "      <td>134.5937</td>\n",
       "      <td>134.5937</td>\n",
       "      <td>6516900.0</td>\n",
       "      <td>NaN</td>\n",
       "      <td>NaN</td>\n",
       "      <td>NaN</td>\n",
       "      <td>NaN</td>\n",
       "      <td>NaN</td>\n",
       "    </tr>\n",
       "    <tr>\n",
       "      <th>1999-11-03</th>\n",
       "      <td>136.0000</td>\n",
       "      <td>136.3750</td>\n",
       "      <td>135.1250</td>\n",
       "      <td>135.5000</td>\n",
       "      <td>7222300.0</td>\n",
       "      <td>NaN</td>\n",
       "      <td>NaN</td>\n",
       "      <td>NaN</td>\n",
       "      <td>NaN</td>\n",
       "      <td>NaN</td>\n",
       "    </tr>\n",
       "    <tr>\n",
       "      <th>1999-11-04</th>\n",
       "      <td>136.7500</td>\n",
       "      <td>137.3593</td>\n",
       "      <td>135.7656</td>\n",
       "      <td>136.5312</td>\n",
       "      <td>7907500.0</td>\n",
       "      <td>NaN</td>\n",
       "      <td>NaN</td>\n",
       "      <td>NaN</td>\n",
       "      <td>NaN</td>\n",
       "      <td>NaN</td>\n",
       "    </tr>\n",
       "    <tr>\n",
       "      <th>1999-11-05</th>\n",
       "      <td>138.6250</td>\n",
       "      <td>139.1093</td>\n",
       "      <td>136.7812</td>\n",
       "      <td>137.8750</td>\n",
       "      <td>7431500.0</td>\n",
       "      <td>NaN</td>\n",
       "      <td>NaN</td>\n",
       "      <td>NaN</td>\n",
       "      <td>NaN</td>\n",
       "      <td>NaN</td>\n",
       "    </tr>\n",
       "    <tr>\n",
       "      <th>...</th>\n",
       "      <td>...</td>\n",
       "      <td>...</td>\n",
       "      <td>...</td>\n",
       "      <td>...</td>\n",
       "      <td>...</td>\n",
       "      <td>...</td>\n",
       "      <td>...</td>\n",
       "      <td>...</td>\n",
       "      <td>...</td>\n",
       "      <td>...</td>\n",
       "    </tr>\n",
       "    <tr>\n",
       "      <th>2020-09-21</th>\n",
       "      <td>325.7000</td>\n",
       "      <td>327.1300</td>\n",
       "      <td>321.7300</td>\n",
       "      <td>326.9700</td>\n",
       "      <td>99450829.0</td>\n",
       "      <td>335.186</td>\n",
       "      <td>341.6475</td>\n",
       "      <td>334.0394</td>\n",
       "      <td>309.95180</td>\n",
       "      <td>80051929.15</td>\n",
       "    </tr>\n",
       "    <tr>\n",
       "      <th>2020-09-22</th>\n",
       "      <td>328.5700</td>\n",
       "      <td>330.9000</td>\n",
       "      <td>325.8600</td>\n",
       "      <td>330.3000</td>\n",
       "      <td>63612107.0</td>\n",
       "      <td>334.895</td>\n",
       "      <td>341.0165</td>\n",
       "      <td>334.3486</td>\n",
       "      <td>310.04320</td>\n",
       "      <td>80803101.40</td>\n",
       "    </tr>\n",
       "    <tr>\n",
       "      <th>2020-09-23</th>\n",
       "      <td>330.9000</td>\n",
       "      <td>331.2000</td>\n",
       "      <td>322.1000</td>\n",
       "      <td>322.6400</td>\n",
       "      <td>93112240.0</td>\n",
       "      <td>333.180</td>\n",
       "      <td>339.9425</td>\n",
       "      <td>334.4230</td>\n",
       "      <td>310.08205</td>\n",
       "      <td>83535544.35</td>\n",
       "    </tr>\n",
       "    <tr>\n",
       "      <th>2020-09-24</th>\n",
       "      <td>321.2200</td>\n",
       "      <td>326.7970</td>\n",
       "      <td>319.8000</td>\n",
       "      <td>323.5000</td>\n",
       "      <td>76681332.0</td>\n",
       "      <td>332.141</td>\n",
       "      <td>338.7390</td>\n",
       "      <td>334.4560</td>\n",
       "      <td>310.13015</td>\n",
       "      <td>84830099.10</td>\n",
       "    </tr>\n",
       "    <tr>\n",
       "      <th>2020-09-25</th>\n",
       "      <td>322.5800</td>\n",
       "      <td>329.5800</td>\n",
       "      <td>321.6400</td>\n",
       "      <td>328.7300</td>\n",
       "      <td>68610432.0</td>\n",
       "      <td>331.608</td>\n",
       "      <td>337.7590</td>\n",
       "      <td>334.6148</td>\n",
       "      <td>310.20615</td>\n",
       "      <td>85358913.60</td>\n",
       "    </tr>\n",
       "  </tbody>\n",
       "</table>\n",
       "<p>5260 rows × 10 columns</p>\n",
       "</div>"
      ],
      "text/plain": [
       "                open      high       low     close      volume   SMA_10  \\\n",
       "date                                                                      \n",
       "1999-11-01  136.5000  137.0000  135.5625  135.5625   4006500.0      NaN   \n",
       "1999-11-02  135.9687  137.2500  134.5937  134.5937   6516900.0      NaN   \n",
       "1999-11-03  136.0000  136.3750  135.1250  135.5000   7222300.0      NaN   \n",
       "1999-11-04  136.7500  137.3593  135.7656  136.5312   7907500.0      NaN   \n",
       "1999-11-05  138.6250  139.1093  136.7812  137.8750   7431500.0      NaN   \n",
       "...              ...       ...       ...       ...         ...      ...   \n",
       "2020-09-21  325.7000  327.1300  321.7300  326.9700  99450829.0  335.186   \n",
       "2020-09-22  328.5700  330.9000  325.8600  330.3000  63612107.0  334.895   \n",
       "2020-09-23  330.9000  331.2000  322.1000  322.6400  93112240.0  333.180   \n",
       "2020-09-24  321.2200  326.7970  319.8000  323.5000  76681332.0  332.141   \n",
       "2020-09-25  322.5800  329.5800  321.6400  328.7300  68610432.0  331.608   \n",
       "\n",
       "              SMA_20    SMA_50    SMA_200   VOL_SMA_20  \n",
       "date                                                    \n",
       "1999-11-01       NaN       NaN        NaN          NaN  \n",
       "1999-11-02       NaN       NaN        NaN          NaN  \n",
       "1999-11-03       NaN       NaN        NaN          NaN  \n",
       "1999-11-04       NaN       NaN        NaN          NaN  \n",
       "1999-11-05       NaN       NaN        NaN          NaN  \n",
       "...              ...       ...        ...          ...  \n",
       "2020-09-21  341.6475  334.0394  309.95180  80051929.15  \n",
       "2020-09-22  341.0165  334.3486  310.04320  80803101.40  \n",
       "2020-09-23  339.9425  334.4230  310.08205  83535544.35  \n",
       "2020-09-24  338.7390  334.4560  310.13015  84830099.10  \n",
       "2020-09-25  337.7590  334.6148  310.20615  85358913.60  \n",
       "\n",
       "[5260 rows x 10 columns]"
      ]
     },
     "execution_count": 13,
     "metadata": {},
     "output_type": "execute_result"
    }
   ],
   "source": [
    "watch.data[\"SPY\"]"
   ]
  },
  {
   "cell_type": "code",
   "execution_count": null,
   "metadata": {},
   "outputs": [],
   "source": []
  },
  {
   "cell_type": "markdown",
   "metadata": {},
   "source": [
    "## Easy to swap Strategies and run them"
   ]
  },
  {
   "cell_type": "markdown",
   "metadata": {},
   "source": [
    "### Running Simple Strategy A"
   ]
  },
  {
   "cell_type": "code",
   "execution_count": 14,
   "metadata": {},
   "outputs": [
    {
     "data": {
      "text/plain": [
       "Strategy(name='A', ta=[{'kind': 'sma', 'length': 50}, {'kind': 'sma', 'length': 200}], description=None, created='09/27/2020, 09:24:11')"
      ]
     },
     "execution_count": 14,
     "metadata": {},
     "output_type": "execute_result"
    }
   ],
   "source": [
    "# Load custom_a into Watchlist and verify\n",
    "watch.strategy = custom_a\n",
    "# watch.debug = True\n",
    "watch.strategy"
   ]
  },
  {
   "cell_type": "code",
   "execution_count": 15,
   "metadata": {},
   "outputs": [
    {
     "name": "stdout",
     "output_type": "stream",
     "text": [
      "[i] Loaded['D']: IWM_D.csv\n"
     ]
    },
    {
     "data": {
      "text/html": [
       "<div>\n",
       "<style scoped>\n",
       "    .dataframe tbody tr th:only-of-type {\n",
       "        vertical-align: middle;\n",
       "    }\n",
       "\n",
       "    .dataframe tbody tr th {\n",
       "        vertical-align: top;\n",
       "    }\n",
       "\n",
       "    .dataframe thead th {\n",
       "        text-align: right;\n",
       "    }\n",
       "</style>\n",
       "<table border=\"1\" class=\"dataframe\">\n",
       "  <thead>\n",
       "    <tr style=\"text-align: right;\">\n",
       "      <th></th>\n",
       "      <th>open</th>\n",
       "      <th>high</th>\n",
       "      <th>low</th>\n",
       "      <th>close</th>\n",
       "      <th>volume</th>\n",
       "      <th>SMA_50</th>\n",
       "      <th>SMA_200</th>\n",
       "    </tr>\n",
       "    <tr>\n",
       "      <th>date</th>\n",
       "      <th></th>\n",
       "      <th></th>\n",
       "      <th></th>\n",
       "      <th></th>\n",
       "      <th></th>\n",
       "      <th></th>\n",
       "      <th></th>\n",
       "    </tr>\n",
       "  </thead>\n",
       "  <tbody>\n",
       "    <tr>\n",
       "      <th>2000-05-26</th>\n",
       "      <td>91.06</td>\n",
       "      <td>91.440</td>\n",
       "      <td>90.63</td>\n",
       "      <td>91.44</td>\n",
       "      <td>37400.0</td>\n",
       "      <td>NaN</td>\n",
       "      <td>NaN</td>\n",
       "    </tr>\n",
       "    <tr>\n",
       "      <th>2000-05-30</th>\n",
       "      <td>92.75</td>\n",
       "      <td>94.810</td>\n",
       "      <td>92.75</td>\n",
       "      <td>94.81</td>\n",
       "      <td>28800.0</td>\n",
       "      <td>NaN</td>\n",
       "      <td>NaN</td>\n",
       "    </tr>\n",
       "    <tr>\n",
       "      <th>2000-05-31</th>\n",
       "      <td>95.13</td>\n",
       "      <td>96.380</td>\n",
       "      <td>95.13</td>\n",
       "      <td>95.75</td>\n",
       "      <td>18000.0</td>\n",
       "      <td>NaN</td>\n",
       "      <td>NaN</td>\n",
       "    </tr>\n",
       "    <tr>\n",
       "      <th>2000-06-01</th>\n",
       "      <td>97.11</td>\n",
       "      <td>97.310</td>\n",
       "      <td>97.11</td>\n",
       "      <td>97.31</td>\n",
       "      <td>3500.0</td>\n",
       "      <td>NaN</td>\n",
       "      <td>NaN</td>\n",
       "    </tr>\n",
       "    <tr>\n",
       "      <th>2000-06-02</th>\n",
       "      <td>101.70</td>\n",
       "      <td>102.400</td>\n",
       "      <td>101.70</td>\n",
       "      <td>102.40</td>\n",
       "      <td>14700.0</td>\n",
       "      <td>NaN</td>\n",
       "      <td>NaN</td>\n",
       "    </tr>\n",
       "    <tr>\n",
       "      <th>...</th>\n",
       "      <td>...</td>\n",
       "      <td>...</td>\n",
       "      <td>...</td>\n",
       "      <td>...</td>\n",
       "      <td>...</td>\n",
       "      <td>...</td>\n",
       "      <td>...</td>\n",
       "    </tr>\n",
       "    <tr>\n",
       "      <th>2020-09-21</th>\n",
       "      <td>149.82</td>\n",
       "      <td>150.255</td>\n",
       "      <td>146.33</td>\n",
       "      <td>147.92</td>\n",
       "      <td>40652521.0</td>\n",
       "      <td>152.0930</td>\n",
       "      <td>145.33285</td>\n",
       "    </tr>\n",
       "    <tr>\n",
       "      <th>2020-09-22</th>\n",
       "      <td>148.65</td>\n",
       "      <td>149.300</td>\n",
       "      <td>146.56</td>\n",
       "      <td>149.06</td>\n",
       "      <td>19385790.0</td>\n",
       "      <td>152.2838</td>\n",
       "      <td>145.27345</td>\n",
       "    </tr>\n",
       "    <tr>\n",
       "      <th>2020-09-23</th>\n",
       "      <td>148.41</td>\n",
       "      <td>149.430</td>\n",
       "      <td>143.98</td>\n",
       "      <td>144.07</td>\n",
       "      <td>33403387.0</td>\n",
       "      <td>152.3286</td>\n",
       "      <td>145.17970</td>\n",
       "    </tr>\n",
       "    <tr>\n",
       "      <th>2020-09-24</th>\n",
       "      <td>144.04</td>\n",
       "      <td>146.530</td>\n",
       "      <td>142.09</td>\n",
       "      <td>144.07</td>\n",
       "      <td>31723749.0</td>\n",
       "      <td>152.2694</td>\n",
       "      <td>145.08750</td>\n",
       "    </tr>\n",
       "    <tr>\n",
       "      <th>2020-09-25</th>\n",
       "      <td>143.44</td>\n",
       "      <td>146.850</td>\n",
       "      <td>143.35</td>\n",
       "      <td>146.41</td>\n",
       "      <td>20689266.0</td>\n",
       "      <td>152.2744</td>\n",
       "      <td>145.00650</td>\n",
       "    </tr>\n",
       "  </tbody>\n",
       "</table>\n",
       "<p>5116 rows × 7 columns</p>\n",
       "</div>"
      ],
      "text/plain": [
       "              open     high     low   close      volume    SMA_50    SMA_200\n",
       "date                                                                        \n",
       "2000-05-26   91.06   91.440   90.63   91.44     37400.0       NaN        NaN\n",
       "2000-05-30   92.75   94.810   92.75   94.81     28800.0       NaN        NaN\n",
       "2000-05-31   95.13   96.380   95.13   95.75     18000.0       NaN        NaN\n",
       "2000-06-01   97.11   97.310   97.11   97.31      3500.0       NaN        NaN\n",
       "2000-06-02  101.70  102.400  101.70  102.40     14700.0       NaN        NaN\n",
       "...            ...      ...     ...     ...         ...       ...        ...\n",
       "2020-09-21  149.82  150.255  146.33  147.92  40652521.0  152.0930  145.33285\n",
       "2020-09-22  148.65  149.300  146.56  149.06  19385790.0  152.2838  145.27345\n",
       "2020-09-23  148.41  149.430  143.98  144.07  33403387.0  152.3286  145.17970\n",
       "2020-09-24  144.04  146.530  142.09  144.07  31723749.0  152.2694  145.08750\n",
       "2020-09-25  143.44  146.850  143.35  146.41  20689266.0  152.2744  145.00650\n",
       "\n",
       "[5116 rows x 7 columns]"
      ]
     },
     "execution_count": 15,
     "metadata": {},
     "output_type": "execute_result"
    }
   ],
   "source": [
    "watch.load(\"IWM\")"
   ]
  },
  {
   "cell_type": "markdown",
   "metadata": {},
   "source": [
    "### Running Simple Strategy B"
   ]
  },
  {
   "cell_type": "code",
   "execution_count": 16,
   "metadata": {},
   "outputs": [
    {
     "data": {
      "text/plain": [
       "Strategy(name='B', ta=[{'kind': 'ema', 'length': 8}, {'kind': 'ema', 'length': 21}, {'kind': 'log_return', 'cumulative': True}, {'kind': 'rsi'}, {'kind': 'supertrend'}], description=None, created='09/27/2020, 09:24:11')"
      ]
     },
     "execution_count": 16,
     "metadata": {},
     "output_type": "execute_result"
    }
   ],
   "source": [
    "# Load custom_b into Watchlist and verify\n",
    "watch.strategy = custom_b\n",
    "watch.strategy"
   ]
  },
  {
   "cell_type": "code",
   "execution_count": 17,
   "metadata": {},
   "outputs": [
    {
     "name": "stdout",
     "output_type": "stream",
     "text": [
      "[i] Loaded['D']: SPY_D.csv\n"
     ]
    },
    {
     "data": {
      "text/html": [
       "<div>\n",
       "<style scoped>\n",
       "    .dataframe tbody tr th:only-of-type {\n",
       "        vertical-align: middle;\n",
       "    }\n",
       "\n",
       "    .dataframe tbody tr th {\n",
       "        vertical-align: top;\n",
       "    }\n",
       "\n",
       "    .dataframe thead th {\n",
       "        text-align: right;\n",
       "    }\n",
       "</style>\n",
       "<table border=\"1\" class=\"dataframe\">\n",
       "  <thead>\n",
       "    <tr style=\"text-align: right;\">\n",
       "      <th></th>\n",
       "      <th>open</th>\n",
       "      <th>high</th>\n",
       "      <th>low</th>\n",
       "      <th>close</th>\n",
       "      <th>volume</th>\n",
       "      <th>EMA_8</th>\n",
       "      <th>EMA_21</th>\n",
       "      <th>CUMLOGRET_1</th>\n",
       "      <th>RSI_14</th>\n",
       "      <th>SUPERT_7_3.0</th>\n",
       "      <th>SUPERTd_7_3.0</th>\n",
       "      <th>SUPERTl_7_3.0</th>\n",
       "      <th>SUPERTs_7_3.0</th>\n",
       "    </tr>\n",
       "    <tr>\n",
       "      <th>date</th>\n",
       "      <th></th>\n",
       "      <th></th>\n",
       "      <th></th>\n",
       "      <th></th>\n",
       "      <th></th>\n",
       "      <th></th>\n",
       "      <th></th>\n",
       "      <th></th>\n",
       "      <th></th>\n",
       "      <th></th>\n",
       "      <th></th>\n",
       "      <th></th>\n",
       "      <th></th>\n",
       "    </tr>\n",
       "  </thead>\n",
       "  <tbody>\n",
       "    <tr>\n",
       "      <th>1999-11-01</th>\n",
       "      <td>136.5000</td>\n",
       "      <td>137.0000</td>\n",
       "      <td>135.5625</td>\n",
       "      <td>135.5625</td>\n",
       "      <td>4006500.0</td>\n",
       "      <td>NaN</td>\n",
       "      <td>NaN</td>\n",
       "      <td>NaN</td>\n",
       "      <td>NaN</td>\n",
       "      <td>0.000000</td>\n",
       "      <td>1</td>\n",
       "      <td>NaN</td>\n",
       "      <td>NaN</td>\n",
       "    </tr>\n",
       "    <tr>\n",
       "      <th>1999-11-02</th>\n",
       "      <td>135.9687</td>\n",
       "      <td>137.2500</td>\n",
       "      <td>134.5937</td>\n",
       "      <td>134.5937</td>\n",
       "      <td>6516900.0</td>\n",
       "      <td>NaN</td>\n",
       "      <td>NaN</td>\n",
       "      <td>-0.007172</td>\n",
       "      <td>0.000000</td>\n",
       "      <td>131.968750</td>\n",
       "      <td>1</td>\n",
       "      <td>131.96875</td>\n",
       "      <td>NaN</td>\n",
       "    </tr>\n",
       "    <tr>\n",
       "      <th>1999-11-03</th>\n",
       "      <td>136.0000</td>\n",
       "      <td>136.3750</td>\n",
       "      <td>135.1250</td>\n",
       "      <td>135.5000</td>\n",
       "      <td>7222300.0</td>\n",
       "      <td>NaN</td>\n",
       "      <td>NaN</td>\n",
       "      <td>-0.000461</td>\n",
       "      <td>50.185503</td>\n",
       "      <td>131.968750</td>\n",
       "      <td>1</td>\n",
       "      <td>131.96875</td>\n",
       "      <td>NaN</td>\n",
       "    </tr>\n",
       "    <tr>\n",
       "      <th>1999-11-04</th>\n",
       "      <td>136.7500</td>\n",
       "      <td>137.3593</td>\n",
       "      <td>135.7656</td>\n",
       "      <td>136.5312</td>\n",
       "      <td>7907500.0</td>\n",
       "      <td>NaN</td>\n",
       "      <td>NaN</td>\n",
       "      <td>0.007120</td>\n",
       "      <td>69.153995</td>\n",
       "      <td>131.968750</td>\n",
       "      <td>1</td>\n",
       "      <td>131.96875</td>\n",
       "      <td>NaN</td>\n",
       "    </tr>\n",
       "    <tr>\n",
       "      <th>1999-11-05</th>\n",
       "      <td>138.6250</td>\n",
       "      <td>139.1093</td>\n",
       "      <td>136.7812</td>\n",
       "      <td>137.8750</td>\n",
       "      <td>7431500.0</td>\n",
       "      <td>NaN</td>\n",
       "      <td>NaN</td>\n",
       "      <td>0.016915</td>\n",
       "      <td>79.896816</td>\n",
       "      <td>131.968750</td>\n",
       "      <td>1</td>\n",
       "      <td>131.96875</td>\n",
       "      <td>NaN</td>\n",
       "    </tr>\n",
       "    <tr>\n",
       "      <th>...</th>\n",
       "      <td>...</td>\n",
       "      <td>...</td>\n",
       "      <td>...</td>\n",
       "      <td>...</td>\n",
       "      <td>...</td>\n",
       "      <td>...</td>\n",
       "      <td>...</td>\n",
       "      <td>...</td>\n",
       "      <td>...</td>\n",
       "      <td>...</td>\n",
       "      <td>...</td>\n",
       "      <td>...</td>\n",
       "      <td>...</td>\n",
       "    </tr>\n",
       "    <tr>\n",
       "      <th>2020-09-21</th>\n",
       "      <td>325.7000</td>\n",
       "      <td>327.1300</td>\n",
       "      <td>321.7300</td>\n",
       "      <td>326.9700</td>\n",
       "      <td>99450829.0</td>\n",
       "      <td>334.624165</td>\n",
       "      <td>337.581041</td>\n",
       "      <td>0.880436</td>\n",
       "      <td>38.586649</td>\n",
       "      <td>344.903390</td>\n",
       "      <td>-1</td>\n",
       "      <td>NaN</td>\n",
       "      <td>344.903390</td>\n",
       "    </tr>\n",
       "    <tr>\n",
       "      <th>2020-09-22</th>\n",
       "      <td>328.5700</td>\n",
       "      <td>330.9000</td>\n",
       "      <td>325.8600</td>\n",
       "      <td>330.3000</td>\n",
       "      <td>63612107.0</td>\n",
       "      <td>333.663239</td>\n",
       "      <td>336.919128</td>\n",
       "      <td>0.890569</td>\n",
       "      <td>42.849311</td>\n",
       "      <td>344.903390</td>\n",
       "      <td>-1</td>\n",
       "      <td>NaN</td>\n",
       "      <td>344.903390</td>\n",
       "    </tr>\n",
       "    <tr>\n",
       "      <th>2020-09-23</th>\n",
       "      <td>330.9000</td>\n",
       "      <td>331.2000</td>\n",
       "      <td>322.1000</td>\n",
       "      <td>322.6400</td>\n",
       "      <td>93112240.0</td>\n",
       "      <td>331.213630</td>\n",
       "      <td>335.621026</td>\n",
       "      <td>0.867104</td>\n",
       "      <td>36.562589</td>\n",
       "      <td>344.903390</td>\n",
       "      <td>-1</td>\n",
       "      <td>NaN</td>\n",
       "      <td>344.903390</td>\n",
       "    </tr>\n",
       "    <tr>\n",
       "      <th>2020-09-24</th>\n",
       "      <td>321.2200</td>\n",
       "      <td>326.7970</td>\n",
       "      <td>319.8000</td>\n",
       "      <td>323.5000</td>\n",
       "      <td>76681332.0</td>\n",
       "      <td>329.499490</td>\n",
       "      <td>334.519114</td>\n",
       "      <td>0.869766</td>\n",
       "      <td>37.668306</td>\n",
       "      <td>344.119874</td>\n",
       "      <td>-1</td>\n",
       "      <td>NaN</td>\n",
       "      <td>344.119874</td>\n",
       "    </tr>\n",
       "    <tr>\n",
       "      <th>2020-09-25</th>\n",
       "      <td>322.5800</td>\n",
       "      <td>329.5800</td>\n",
       "      <td>321.6400</td>\n",
       "      <td>328.7300</td>\n",
       "      <td>68610432.0</td>\n",
       "      <td>329.328493</td>\n",
       "      <td>333.992831</td>\n",
       "      <td>0.885804</td>\n",
       "      <td>44.054622</td>\n",
       "      <td>344.119874</td>\n",
       "      <td>-1</td>\n",
       "      <td>NaN</td>\n",
       "      <td>344.119874</td>\n",
       "    </tr>\n",
       "  </tbody>\n",
       "</table>\n",
       "<p>5260 rows × 13 columns</p>\n",
       "</div>"
      ],
      "text/plain": [
       "                open      high       low     close      volume       EMA_8  \\\n",
       "date                                                                         \n",
       "1999-11-01  136.5000  137.0000  135.5625  135.5625   4006500.0         NaN   \n",
       "1999-11-02  135.9687  137.2500  134.5937  134.5937   6516900.0         NaN   \n",
       "1999-11-03  136.0000  136.3750  135.1250  135.5000   7222300.0         NaN   \n",
       "1999-11-04  136.7500  137.3593  135.7656  136.5312   7907500.0         NaN   \n",
       "1999-11-05  138.6250  139.1093  136.7812  137.8750   7431500.0         NaN   \n",
       "...              ...       ...       ...       ...         ...         ...   \n",
       "2020-09-21  325.7000  327.1300  321.7300  326.9700  99450829.0  334.624165   \n",
       "2020-09-22  328.5700  330.9000  325.8600  330.3000  63612107.0  333.663239   \n",
       "2020-09-23  330.9000  331.2000  322.1000  322.6400  93112240.0  331.213630   \n",
       "2020-09-24  321.2200  326.7970  319.8000  323.5000  76681332.0  329.499490   \n",
       "2020-09-25  322.5800  329.5800  321.6400  328.7300  68610432.0  329.328493   \n",
       "\n",
       "                EMA_21  CUMLOGRET_1     RSI_14  SUPERT_7_3.0  SUPERTd_7_3.0  \\\n",
       "date                                                                          \n",
       "1999-11-01         NaN          NaN        NaN      0.000000              1   \n",
       "1999-11-02         NaN    -0.007172   0.000000    131.968750              1   \n",
       "1999-11-03         NaN    -0.000461  50.185503    131.968750              1   \n",
       "1999-11-04         NaN     0.007120  69.153995    131.968750              1   \n",
       "1999-11-05         NaN     0.016915  79.896816    131.968750              1   \n",
       "...                ...          ...        ...           ...            ...   \n",
       "2020-09-21  337.581041     0.880436  38.586649    344.903390             -1   \n",
       "2020-09-22  336.919128     0.890569  42.849311    344.903390             -1   \n",
       "2020-09-23  335.621026     0.867104  36.562589    344.903390             -1   \n",
       "2020-09-24  334.519114     0.869766  37.668306    344.119874             -1   \n",
       "2020-09-25  333.992831     0.885804  44.054622    344.119874             -1   \n",
       "\n",
       "            SUPERTl_7_3.0  SUPERTs_7_3.0  \n",
       "date                                      \n",
       "1999-11-01            NaN            NaN  \n",
       "1999-11-02      131.96875            NaN  \n",
       "1999-11-03      131.96875            NaN  \n",
       "1999-11-04      131.96875            NaN  \n",
       "1999-11-05      131.96875            NaN  \n",
       "...                   ...            ...  \n",
       "2020-09-21            NaN     344.903390  \n",
       "2020-09-22            NaN     344.903390  \n",
       "2020-09-23            NaN     344.903390  \n",
       "2020-09-24            NaN     344.119874  \n",
       "2020-09-25            NaN     344.119874  \n",
       "\n",
       "[5260 rows x 13 columns]"
      ]
     },
     "execution_count": 17,
     "metadata": {},
     "output_type": "execute_result"
    }
   ],
   "source": [
    "watch.load(\"SPY\")"
   ]
  },
  {
   "cell_type": "markdown",
   "metadata": {},
   "source": [
    "### Running Bad Strategy. (Misspelled indicator)"
   ]
  },
  {
   "cell_type": "code",
   "execution_count": 18,
   "metadata": {},
   "outputs": [
    {
     "data": {
      "text/plain": [
       "Strategy(name='Runtime Failure', ta=[{'kind': 'percet_return'}], description=None, created='09/27/2020, 09:24:11')"
      ]
     },
     "execution_count": 18,
     "metadata": {},
     "output_type": "execute_result"
    }
   ],
   "source": [
    "# Load custom_run_failure into Watchlist and verify\n",
    "watch.strategy = custom_run_failure\n",
    "watch.strategy"
   ]
  },
  {
   "cell_type": "code",
   "execution_count": 19,
   "metadata": {},
   "outputs": [
    {
     "name": "stdout",
     "output_type": "stream",
     "text": [
      "[i] Loaded['D']: IWM_D.csv\n",
      "[X] Oops! 'AnalysisIndicators' object has no attribute 'percet_return'\n"
     ]
    }
   ],
   "source": [
    "try:\n",
    "    iwm = watch.load(\"IWM\")\n",
    "except AttributeError as error:\n",
    "    print(f\"[X] Oops! {error}\")"
   ]
  },
  {
   "cell_type": "code",
   "execution_count": null,
   "metadata": {},
   "outputs": [],
   "source": []
  },
  {
   "cell_type": "markdown",
   "metadata": {},
   "source": [
    "# Indicator Composition/Chaining\n",
    "- When you need an indicator to depend on the value of a prior indicator\n",
    "- Utilitze _prefix_ or _suffix_ to help identify unique columns or avoid column name clashes."
   ]
  },
  {
   "cell_type": "markdown",
   "metadata": {},
   "source": [
    "### Volume MAs and MA chains"
   ]
  },
  {
   "cell_type": "code",
   "execution_count": 20,
   "metadata": {},
   "outputs": [
    {
     "data": {
      "text/plain": [
       "Strategy(name='Volume MAs and Price MA chain', ta=[{'kind': 'ema', 'close': 'volume', 'length': 10, 'prefix': 'VOLUME'}, {'kind': 'sma', 'close': 'volume', 'length': 20, 'prefix': 'VOLUME'}, {'kind': 'ema', 'length': 5}, {'kind': 'linreg', 'close': 'EMA_5', 'length': 8, 'prefix': 'EMA_5'}], description=None, created='09/27/2020, 09:24:11')"
      ]
     },
     "execution_count": 20,
     "metadata": {},
     "output_type": "execute_result"
    }
   ],
   "source": [
    "# Set EMA's and SMA's 'close' to 'volume' to create Volume MAs, prefix 'volume' MAs with 'VOLUME' so easy to identify the column\n",
    "# Take a price EMA and apply LINREG from EMA's output\n",
    "volmas_price_ma_chain = [\n",
    "    {\"kind\":\"ema\", \"close\": \"volume\", \"length\": 10, \"prefix\": \"VOLUME\"},\n",
    "    {\"kind\":\"sma\", \"close\": \"volume\", \"length\": 20, \"prefix\": \"VOLUME\"},\n",
    "    {\"kind\":\"ema\", \"length\": 5},\n",
    "    {\"kind\":\"linreg\", \"close\": \"EMA_5\", \"length\": 8, \"prefix\": \"EMA_5\"},\n",
    "]\n",
    "vp_ma_chain_ta = ta.Strategy(\"Volume MAs and Price MA chain\", volmas_price_ma_chain)\n",
    "vp_ma_chain_ta"
   ]
  },
  {
   "cell_type": "code",
   "execution_count": 21,
   "metadata": {},
   "outputs": [
    {
     "data": {
      "text/plain": [
       "'Volume MAs and Price MA chain'"
      ]
     },
     "execution_count": 21,
     "metadata": {},
     "output_type": "execute_result"
    }
   ],
   "source": [
    "# Update the Watchlist\n",
    "watch.strategy = vp_ma_chain_ta\n",
    "watch.strategy.name"
   ]
  },
  {
   "cell_type": "code",
   "execution_count": 22,
   "metadata": {},
   "outputs": [
    {
     "name": "stdout",
     "output_type": "stream",
     "text": [
      "[i] Loaded['D']: SPY_D.csv\n"
     ]
    },
    {
     "data": {
      "text/html": [
       "<div>\n",
       "<style scoped>\n",
       "    .dataframe tbody tr th:only-of-type {\n",
       "        vertical-align: middle;\n",
       "    }\n",
       "\n",
       "    .dataframe tbody tr th {\n",
       "        vertical-align: top;\n",
       "    }\n",
       "\n",
       "    .dataframe thead th {\n",
       "        text-align: right;\n",
       "    }\n",
       "</style>\n",
       "<table border=\"1\" class=\"dataframe\">\n",
       "  <thead>\n",
       "    <tr style=\"text-align: right;\">\n",
       "      <th></th>\n",
       "      <th>open</th>\n",
       "      <th>high</th>\n",
       "      <th>low</th>\n",
       "      <th>close</th>\n",
       "      <th>volume</th>\n",
       "      <th>VOLUME_EMA_10</th>\n",
       "      <th>VOLUME_SMA_20</th>\n",
       "      <th>EMA_5</th>\n",
       "      <th>EMA_5_LR_8</th>\n",
       "    </tr>\n",
       "    <tr>\n",
       "      <th>date</th>\n",
       "      <th></th>\n",
       "      <th></th>\n",
       "      <th></th>\n",
       "      <th></th>\n",
       "      <th></th>\n",
       "      <th></th>\n",
       "      <th></th>\n",
       "      <th></th>\n",
       "      <th></th>\n",
       "    </tr>\n",
       "  </thead>\n",
       "  <tbody>\n",
       "    <tr>\n",
       "      <th>1999-11-01</th>\n",
       "      <td>136.5000</td>\n",
       "      <td>137.0000</td>\n",
       "      <td>135.5625</td>\n",
       "      <td>135.5625</td>\n",
       "      <td>4006500.0</td>\n",
       "      <td>NaN</td>\n",
       "      <td>NaN</td>\n",
       "      <td>NaN</td>\n",
       "      <td>NaN</td>\n",
       "    </tr>\n",
       "    <tr>\n",
       "      <th>1999-11-02</th>\n",
       "      <td>135.9687</td>\n",
       "      <td>137.2500</td>\n",
       "      <td>134.5937</td>\n",
       "      <td>134.5937</td>\n",
       "      <td>6516900.0</td>\n",
       "      <td>NaN</td>\n",
       "      <td>NaN</td>\n",
       "      <td>NaN</td>\n",
       "      <td>NaN</td>\n",
       "    </tr>\n",
       "    <tr>\n",
       "      <th>1999-11-03</th>\n",
       "      <td>136.0000</td>\n",
       "      <td>136.3750</td>\n",
       "      <td>135.1250</td>\n",
       "      <td>135.5000</td>\n",
       "      <td>7222300.0</td>\n",
       "      <td>NaN</td>\n",
       "      <td>NaN</td>\n",
       "      <td>NaN</td>\n",
       "      <td>NaN</td>\n",
       "    </tr>\n",
       "    <tr>\n",
       "      <th>1999-11-04</th>\n",
       "      <td>136.7500</td>\n",
       "      <td>137.3593</td>\n",
       "      <td>135.7656</td>\n",
       "      <td>136.5312</td>\n",
       "      <td>7907500.0</td>\n",
       "      <td>NaN</td>\n",
       "      <td>NaN</td>\n",
       "      <td>NaN</td>\n",
       "      <td>NaN</td>\n",
       "    </tr>\n",
       "    <tr>\n",
       "      <th>1999-11-05</th>\n",
       "      <td>138.6250</td>\n",
       "      <td>139.1093</td>\n",
       "      <td>136.7812</td>\n",
       "      <td>137.8750</td>\n",
       "      <td>7431500.0</td>\n",
       "      <td>NaN</td>\n",
       "      <td>NaN</td>\n",
       "      <td>136.012480</td>\n",
       "      <td>NaN</td>\n",
       "    </tr>\n",
       "    <tr>\n",
       "      <th>...</th>\n",
       "      <td>...</td>\n",
       "      <td>...</td>\n",
       "      <td>...</td>\n",
       "      <td>...</td>\n",
       "      <td>...</td>\n",
       "      <td>...</td>\n",
       "      <td>...</td>\n",
       "      <td>...</td>\n",
       "      <td>...</td>\n",
       "    </tr>\n",
       "    <tr>\n",
       "      <th>2020-09-21</th>\n",
       "      <td>325.7000</td>\n",
       "      <td>327.1300</td>\n",
       "      <td>321.7300</td>\n",
       "      <td>326.9700</td>\n",
       "      <td>99450829.0</td>\n",
       "      <td>8.868160e+07</td>\n",
       "      <td>80051929.15</td>\n",
       "      <td>332.563993</td>\n",
       "      <td>335.473066</td>\n",
       "    </tr>\n",
       "    <tr>\n",
       "      <th>2020-09-22</th>\n",
       "      <td>328.5700</td>\n",
       "      <td>330.9000</td>\n",
       "      <td>325.8600</td>\n",
       "      <td>330.3000</td>\n",
       "      <td>63612107.0</td>\n",
       "      <td>8.412351e+07</td>\n",
       "      <td>80803101.40</td>\n",
       "      <td>331.809328</td>\n",
       "      <td>333.974346</td>\n",
       "    </tr>\n",
       "    <tr>\n",
       "      <th>2020-09-23</th>\n",
       "      <td>330.9000</td>\n",
       "      <td>331.2000</td>\n",
       "      <td>322.1000</td>\n",
       "      <td>322.6400</td>\n",
       "      <td>93112240.0</td>\n",
       "      <td>8.575783e+07</td>\n",
       "      <td>83535544.35</td>\n",
       "      <td>328.752886</td>\n",
       "      <td>331.650953</td>\n",
       "    </tr>\n",
       "    <tr>\n",
       "      <th>2020-09-24</th>\n",
       "      <td>321.2200</td>\n",
       "      <td>326.7970</td>\n",
       "      <td>319.8000</td>\n",
       "      <td>323.5000</td>\n",
       "      <td>76681332.0</td>\n",
       "      <td>8.410756e+07</td>\n",
       "      <td>84830099.10</td>\n",
       "      <td>327.001924</td>\n",
       "      <td>329.309445</td>\n",
       "    </tr>\n",
       "    <tr>\n",
       "      <th>2020-09-25</th>\n",
       "      <td>322.5800</td>\n",
       "      <td>329.5800</td>\n",
       "      <td>321.6400</td>\n",
       "      <td>328.7300</td>\n",
       "      <td>68610432.0</td>\n",
       "      <td>8.128990e+07</td>\n",
       "      <td>85358913.60</td>\n",
       "      <td>327.577949</td>\n",
       "      <td>327.915225</td>\n",
       "    </tr>\n",
       "  </tbody>\n",
       "</table>\n",
       "<p>5260 rows × 9 columns</p>\n",
       "</div>"
      ],
      "text/plain": [
       "                open      high       low     close      volume  VOLUME_EMA_10  \\\n",
       "date                                                                            \n",
       "1999-11-01  136.5000  137.0000  135.5625  135.5625   4006500.0            NaN   \n",
       "1999-11-02  135.9687  137.2500  134.5937  134.5937   6516900.0            NaN   \n",
       "1999-11-03  136.0000  136.3750  135.1250  135.5000   7222300.0            NaN   \n",
       "1999-11-04  136.7500  137.3593  135.7656  136.5312   7907500.0            NaN   \n",
       "1999-11-05  138.6250  139.1093  136.7812  137.8750   7431500.0            NaN   \n",
       "...              ...       ...       ...       ...         ...            ...   \n",
       "2020-09-21  325.7000  327.1300  321.7300  326.9700  99450829.0   8.868160e+07   \n",
       "2020-09-22  328.5700  330.9000  325.8600  330.3000  63612107.0   8.412351e+07   \n",
       "2020-09-23  330.9000  331.2000  322.1000  322.6400  93112240.0   8.575783e+07   \n",
       "2020-09-24  321.2200  326.7970  319.8000  323.5000  76681332.0   8.410756e+07   \n",
       "2020-09-25  322.5800  329.5800  321.6400  328.7300  68610432.0   8.128990e+07   \n",
       "\n",
       "            VOLUME_SMA_20       EMA_5  EMA_5_LR_8  \n",
       "date                                               \n",
       "1999-11-01            NaN         NaN         NaN  \n",
       "1999-11-02            NaN         NaN         NaN  \n",
       "1999-11-03            NaN         NaN         NaN  \n",
       "1999-11-04            NaN         NaN         NaN  \n",
       "1999-11-05            NaN  136.012480         NaN  \n",
       "...                   ...         ...         ...  \n",
       "2020-09-21    80051929.15  332.563993  335.473066  \n",
       "2020-09-22    80803101.40  331.809328  333.974346  \n",
       "2020-09-23    83535544.35  328.752886  331.650953  \n",
       "2020-09-24    84830099.10  327.001924  329.309445  \n",
       "2020-09-25    85358913.60  327.577949  327.915225  \n",
       "\n",
       "[5260 rows x 9 columns]"
      ]
     },
     "execution_count": 22,
     "metadata": {},
     "output_type": "execute_result"
    }
   ],
   "source": [
    "spy = watch.load(\"SPY\")\n",
    "spy"
   ]
  },
  {
   "cell_type": "code",
   "execution_count": null,
   "metadata": {},
   "outputs": [],
   "source": []
  },
  {
   "cell_type": "markdown",
   "metadata": {},
   "source": [
    "### MACD BBANDS"
   ]
  },
  {
   "cell_type": "code",
   "execution_count": 23,
   "metadata": {},
   "outputs": [
    {
     "data": {
      "text/plain": [
       "Strategy(name='MACD BBands', ta=[{'kind': 'macd'}, {'kind': 'bbands', 'close': 'MACD_12_26_9', 'length': 20, 'prefix': 'MACD'}], description='BBANDS_20 applied to MACD', created='09/27/2020, 09:24:11')"
      ]
     },
     "execution_count": 23,
     "metadata": {},
     "output_type": "execute_result"
    }
   ],
   "source": [
    "# MACD is the initial indicator that BBANDS depends on.\n",
    "# Set BBANDS's 'close' to MACD's main signal, in this case 'MACD_12_26_9' and add a prefix (or suffix) so it's easier to identify\n",
    "macd_bands_ta = [\n",
    "    {\"kind\":\"macd\"},\n",
    "    {\"kind\":\"bbands\", \"close\": \"MACD_12_26_9\", \"length\": 20, \"prefix\": \"MACD\"}\n",
    "]\n",
    "macd_bands_ta = ta.Strategy(\"MACD BBands\", macd_bands_ta, f\"BBANDS_{macd_bands_ta[1]['length']} applied to MACD\")\n",
    "macd_bands_ta"
   ]
  },
  {
   "cell_type": "code",
   "execution_count": 24,
   "metadata": {},
   "outputs": [
    {
     "data": {
      "text/plain": [
       "'MACD BBands'"
      ]
     },
     "execution_count": 24,
     "metadata": {},
     "output_type": "execute_result"
    }
   ],
   "source": [
    "# Update the Watchlist\n",
    "watch.strategy = macd_bands_ta\n",
    "watch.strategy.name"
   ]
  },
  {
   "cell_type": "code",
   "execution_count": 25,
   "metadata": {},
   "outputs": [
    {
     "name": "stdout",
     "output_type": "stream",
     "text": [
      "[i] Loaded['D']: SPY_D.csv\n"
     ]
    },
    {
     "data": {
      "text/html": [
       "<div>\n",
       "<style scoped>\n",
       "    .dataframe tbody tr th:only-of-type {\n",
       "        vertical-align: middle;\n",
       "    }\n",
       "\n",
       "    .dataframe tbody tr th {\n",
       "        vertical-align: top;\n",
       "    }\n",
       "\n",
       "    .dataframe thead th {\n",
       "        text-align: right;\n",
       "    }\n",
       "</style>\n",
       "<table border=\"1\" class=\"dataframe\">\n",
       "  <thead>\n",
       "    <tr style=\"text-align: right;\">\n",
       "      <th></th>\n",
       "      <th>open</th>\n",
       "      <th>high</th>\n",
       "      <th>low</th>\n",
       "      <th>close</th>\n",
       "      <th>volume</th>\n",
       "      <th>MACD_12_26_9</th>\n",
       "      <th>MACDh_12_26_9</th>\n",
       "      <th>MACDs_12_26_9</th>\n",
       "      <th>MACD_BBL_20_2.0</th>\n",
       "      <th>MACD_BBM_20_2.0</th>\n",
       "      <th>MACD_BBU_20_2.0</th>\n",
       "    </tr>\n",
       "    <tr>\n",
       "      <th>date</th>\n",
       "      <th></th>\n",
       "      <th></th>\n",
       "      <th></th>\n",
       "      <th></th>\n",
       "      <th></th>\n",
       "      <th></th>\n",
       "      <th></th>\n",
       "      <th></th>\n",
       "      <th></th>\n",
       "      <th></th>\n",
       "      <th></th>\n",
       "    </tr>\n",
       "  </thead>\n",
       "  <tbody>\n",
       "    <tr>\n",
       "      <th>1999-11-01</th>\n",
       "      <td>136.5000</td>\n",
       "      <td>137.0000</td>\n",
       "      <td>135.5625</td>\n",
       "      <td>135.5625</td>\n",
       "      <td>4006500.0</td>\n",
       "      <td>NaN</td>\n",
       "      <td>NaN</td>\n",
       "      <td>NaN</td>\n",
       "      <td>NaN</td>\n",
       "      <td>NaN</td>\n",
       "      <td>NaN</td>\n",
       "    </tr>\n",
       "    <tr>\n",
       "      <th>1999-11-02</th>\n",
       "      <td>135.9687</td>\n",
       "      <td>137.2500</td>\n",
       "      <td>134.5937</td>\n",
       "      <td>134.5937</td>\n",
       "      <td>6516900.0</td>\n",
       "      <td>NaN</td>\n",
       "      <td>NaN</td>\n",
       "      <td>NaN</td>\n",
       "      <td>NaN</td>\n",
       "      <td>NaN</td>\n",
       "      <td>NaN</td>\n",
       "    </tr>\n",
       "    <tr>\n",
       "      <th>1999-11-03</th>\n",
       "      <td>136.0000</td>\n",
       "      <td>136.3750</td>\n",
       "      <td>135.1250</td>\n",
       "      <td>135.5000</td>\n",
       "      <td>7222300.0</td>\n",
       "      <td>NaN</td>\n",
       "      <td>NaN</td>\n",
       "      <td>NaN</td>\n",
       "      <td>NaN</td>\n",
       "      <td>NaN</td>\n",
       "      <td>NaN</td>\n",
       "    </tr>\n",
       "    <tr>\n",
       "      <th>1999-11-04</th>\n",
       "      <td>136.7500</td>\n",
       "      <td>137.3593</td>\n",
       "      <td>135.7656</td>\n",
       "      <td>136.5312</td>\n",
       "      <td>7907500.0</td>\n",
       "      <td>NaN</td>\n",
       "      <td>NaN</td>\n",
       "      <td>NaN</td>\n",
       "      <td>NaN</td>\n",
       "      <td>NaN</td>\n",
       "      <td>NaN</td>\n",
       "    </tr>\n",
       "    <tr>\n",
       "      <th>1999-11-05</th>\n",
       "      <td>138.6250</td>\n",
       "      <td>139.1093</td>\n",
       "      <td>136.7812</td>\n",
       "      <td>137.8750</td>\n",
       "      <td>7431500.0</td>\n",
       "      <td>NaN</td>\n",
       "      <td>NaN</td>\n",
       "      <td>NaN</td>\n",
       "      <td>NaN</td>\n",
       "      <td>NaN</td>\n",
       "      <td>NaN</td>\n",
       "    </tr>\n",
       "    <tr>\n",
       "      <th>...</th>\n",
       "      <td>...</td>\n",
       "      <td>...</td>\n",
       "      <td>...</td>\n",
       "      <td>...</td>\n",
       "      <td>...</td>\n",
       "      <td>...</td>\n",
       "      <td>...</td>\n",
       "      <td>...</td>\n",
       "      <td>...</td>\n",
       "      <td>...</td>\n",
       "      <td>...</td>\n",
       "    </tr>\n",
       "    <tr>\n",
       "      <th>2020-09-21</th>\n",
       "      <td>325.7000</td>\n",
       "      <td>327.1300</td>\n",
       "      <td>321.7300</td>\n",
       "      <td>326.9700</td>\n",
       "      <td>99450829.0</td>\n",
       "      <td>-0.892645</td>\n",
       "      <td>-2.268501</td>\n",
       "      <td>1.375856</td>\n",
       "      <td>-1.306935</td>\n",
       "      <td>3.942561</td>\n",
       "      <td>9.192057</td>\n",
       "    </tr>\n",
       "    <tr>\n",
       "      <th>2020-09-22</th>\n",
       "      <td>328.5700</td>\n",
       "      <td>330.9000</td>\n",
       "      <td>325.8600</td>\n",
       "      <td>330.3000</td>\n",
       "      <td>63612107.0</td>\n",
       "      <td>-1.311585</td>\n",
       "      <td>-2.149953</td>\n",
       "      <td>0.838368</td>\n",
       "      <td>-2.090184</td>\n",
       "      <td>3.609898</td>\n",
       "      <td>9.309980</td>\n",
       "    </tr>\n",
       "    <tr>\n",
       "      <th>2020-09-23</th>\n",
       "      <td>330.9000</td>\n",
       "      <td>331.2000</td>\n",
       "      <td>322.1000</td>\n",
       "      <td>322.6400</td>\n",
       "      <td>93112240.0</td>\n",
       "      <td>-2.235922</td>\n",
       "      <td>-2.459431</td>\n",
       "      <td>0.223510</td>\n",
       "      <td>-2.965507</td>\n",
       "      <td>3.222451</td>\n",
       "      <td>9.410409</td>\n",
       "    </tr>\n",
       "    <tr>\n",
       "      <th>2020-09-24</th>\n",
       "      <td>321.2200</td>\n",
       "      <td>326.7970</td>\n",
       "      <td>319.8000</td>\n",
       "      <td>323.5000</td>\n",
       "      <td>76681332.0</td>\n",
       "      <td>-2.866032</td>\n",
       "      <td>-2.471634</td>\n",
       "      <td>-0.394399</td>\n",
       "      <td>-3.834206</td>\n",
       "      <td>2.786167</td>\n",
       "      <td>9.406539</td>\n",
       "    </tr>\n",
       "    <tr>\n",
       "      <th>2020-09-25</th>\n",
       "      <td>322.5800</td>\n",
       "      <td>329.5800</td>\n",
       "      <td>321.6400</td>\n",
       "      <td>328.7300</td>\n",
       "      <td>68610432.0</td>\n",
       "      <td>-2.909839</td>\n",
       "      <td>-2.012353</td>\n",
       "      <td>-0.897487</td>\n",
       "      <td>-4.554227</td>\n",
       "      <td>2.334421</td>\n",
       "      <td>9.223069</td>\n",
       "    </tr>\n",
       "  </tbody>\n",
       "</table>\n",
       "<p>5260 rows × 11 columns</p>\n",
       "</div>"
      ],
      "text/plain": [
       "                open      high       low     close      volume  MACD_12_26_9  \\\n",
       "date                                                                           \n",
       "1999-11-01  136.5000  137.0000  135.5625  135.5625   4006500.0           NaN   \n",
       "1999-11-02  135.9687  137.2500  134.5937  134.5937   6516900.0           NaN   \n",
       "1999-11-03  136.0000  136.3750  135.1250  135.5000   7222300.0           NaN   \n",
       "1999-11-04  136.7500  137.3593  135.7656  136.5312   7907500.0           NaN   \n",
       "1999-11-05  138.6250  139.1093  136.7812  137.8750   7431500.0           NaN   \n",
       "...              ...       ...       ...       ...         ...           ...   \n",
       "2020-09-21  325.7000  327.1300  321.7300  326.9700  99450829.0     -0.892645   \n",
       "2020-09-22  328.5700  330.9000  325.8600  330.3000  63612107.0     -1.311585   \n",
       "2020-09-23  330.9000  331.2000  322.1000  322.6400  93112240.0     -2.235922   \n",
       "2020-09-24  321.2200  326.7970  319.8000  323.5000  76681332.0     -2.866032   \n",
       "2020-09-25  322.5800  329.5800  321.6400  328.7300  68610432.0     -2.909839   \n",
       "\n",
       "            MACDh_12_26_9  MACDs_12_26_9  MACD_BBL_20_2.0  MACD_BBM_20_2.0  \\\n",
       "date                                                                         \n",
       "1999-11-01            NaN            NaN              NaN              NaN   \n",
       "1999-11-02            NaN            NaN              NaN              NaN   \n",
       "1999-11-03            NaN            NaN              NaN              NaN   \n",
       "1999-11-04            NaN            NaN              NaN              NaN   \n",
       "1999-11-05            NaN            NaN              NaN              NaN   \n",
       "...                   ...            ...              ...              ...   \n",
       "2020-09-21      -2.268501       1.375856        -1.306935         3.942561   \n",
       "2020-09-22      -2.149953       0.838368        -2.090184         3.609898   \n",
       "2020-09-23      -2.459431       0.223510        -2.965507         3.222451   \n",
       "2020-09-24      -2.471634      -0.394399        -3.834206         2.786167   \n",
       "2020-09-25      -2.012353      -0.897487        -4.554227         2.334421   \n",
       "\n",
       "            MACD_BBU_20_2.0  \n",
       "date                         \n",
       "1999-11-01              NaN  \n",
       "1999-11-02              NaN  \n",
       "1999-11-03              NaN  \n",
       "1999-11-04              NaN  \n",
       "1999-11-05              NaN  \n",
       "...                     ...  \n",
       "2020-09-21         9.192057  \n",
       "2020-09-22         9.309980  \n",
       "2020-09-23         9.410409  \n",
       "2020-09-24         9.406539  \n",
       "2020-09-25         9.223069  \n",
       "\n",
       "[5260 rows x 11 columns]"
      ]
     },
     "execution_count": 25,
     "metadata": {},
     "output_type": "execute_result"
    }
   ],
   "source": [
    "spy = watch.load(\"SPY\")\n",
    "spy"
   ]
  },
  {
   "cell_type": "code",
   "execution_count": null,
   "metadata": {},
   "outputs": [],
   "source": []
  },
  {
   "cell_type": "markdown",
   "metadata": {},
   "source": [
    "# Comprehensive Strategy"
   ]
  },
  {
   "cell_type": "markdown",
   "metadata": {},
   "source": [
    "### MACD and RSI Momentum with BBANDS and SMAs and Cumulative Log Returns"
   ]
  },
  {
   "cell_type": "code",
   "execution_count": 26,
   "metadata": {},
   "outputs": [
    {
     "data": {
      "text/plain": [
       "Strategy(name='Momo, Bands and SMAs and Cumulative Log Returns', ta=[{'kind': 'sma', 'length': 50}, {'kind': 'sma', 'length': 200}, {'kind': 'bbands', 'length': 20}, {'kind': 'macd'}, {'kind': 'rsi'}, {'kind': 'log_return', 'cumulative': True}, {'kind': 'sma', 'close': 'CUMLOGRET_1', 'length': 5, 'suffix': 'CUMLOGRET'}], description='MACD and RSI Momo with BBANDS and SMAs 50 & 200 and Cumulative Log Returns', created='09/27/2020, 09:24:11')"
      ]
     },
     "execution_count": 26,
     "metadata": {},
     "output_type": "execute_result"
    }
   ],
   "source": [
    "momo_bands_sma_ta = [\n",
    "    {\"kind\":\"sma\", \"length\": 50},\n",
    "    {\"kind\":\"sma\", \"length\": 200},\n",
    "    {\"kind\":\"bbands\", \"length\": 20},\n",
    "    {\"kind\":\"macd\"},\n",
    "    {\"kind\":\"rsi\"},\n",
    "    {\"kind\":\"log_return\", \"cumulative\": True},\n",
    "    {\"kind\":\"sma\", \"close\": \"CUMLOGRET_1\", \"length\": 5, \"suffix\": \"CUMLOGRET\"},\n",
    "]\n",
    "momo_bands_sma_strategy = ta.Strategy(\n",
    "    \"Momo, Bands and SMAs and Cumulative Log Returns\", # name\n",
    "    momo_bands_sma_ta, # ta\n",
    "    \"MACD and RSI Momo with BBANDS and SMAs 50 & 200 and Cumulative Log Returns\" # description\n",
    ")\n",
    "momo_bands_sma_strategy"
   ]
  },
  {
   "cell_type": "code",
   "execution_count": 27,
   "metadata": {},
   "outputs": [
    {
     "data": {
      "text/plain": [
       "'Momo, Bands and SMAs and Cumulative Log Returns'"
      ]
     },
     "execution_count": 27,
     "metadata": {},
     "output_type": "execute_result"
    }
   ],
   "source": [
    "# Update the Watchlist\n",
    "watch.strategy = momo_bands_sma_strategy\n",
    "watch.strategy.name"
   ]
  },
  {
   "cell_type": "code",
   "execution_count": 28,
   "metadata": {},
   "outputs": [
    {
     "name": "stdout",
     "output_type": "stream",
     "text": [
      "[i] Loaded['D']: SPY_D.csv\n",
      "[i] Runtime: 1818.4281 ms (1.8184 s)\n"
     ]
    },
    {
     "data": {
      "text/html": [
       "<div>\n",
       "<style scoped>\n",
       "    .dataframe tbody tr th:only-of-type {\n",
       "        vertical-align: middle;\n",
       "    }\n",
       "\n",
       "    .dataframe tbody tr th {\n",
       "        vertical-align: top;\n",
       "    }\n",
       "\n",
       "    .dataframe thead th {\n",
       "        text-align: right;\n",
       "    }\n",
       "</style>\n",
       "<table border=\"1\" class=\"dataframe\">\n",
       "  <thead>\n",
       "    <tr style=\"text-align: right;\">\n",
       "      <th></th>\n",
       "      <th>open</th>\n",
       "      <th>high</th>\n",
       "      <th>low</th>\n",
       "      <th>close</th>\n",
       "      <th>volume</th>\n",
       "      <th>SMA_50</th>\n",
       "      <th>SMA_200</th>\n",
       "      <th>BBL_20_2.0</th>\n",
       "      <th>BBM_20_2.0</th>\n",
       "      <th>BBU_20_2.0</th>\n",
       "      <th>MACD_12_26_9</th>\n",
       "      <th>MACDh_12_26_9</th>\n",
       "      <th>MACDs_12_26_9</th>\n",
       "      <th>RSI_14</th>\n",
       "      <th>CUMLOGRET_1</th>\n",
       "      <th>SMA_5_CUMLOGRET</th>\n",
       "      <th>0</th>\n",
       "      <th>30</th>\n",
       "      <th>70</th>\n",
       "    </tr>\n",
       "    <tr>\n",
       "      <th>date</th>\n",
       "      <th></th>\n",
       "      <th></th>\n",
       "      <th></th>\n",
       "      <th></th>\n",
       "      <th></th>\n",
       "      <th></th>\n",
       "      <th></th>\n",
       "      <th></th>\n",
       "      <th></th>\n",
       "      <th></th>\n",
       "      <th></th>\n",
       "      <th></th>\n",
       "      <th></th>\n",
       "      <th></th>\n",
       "      <th></th>\n",
       "      <th></th>\n",
       "      <th></th>\n",
       "      <th></th>\n",
       "      <th></th>\n",
       "    </tr>\n",
       "  </thead>\n",
       "  <tbody>\n",
       "    <tr>\n",
       "      <th>1999-11-01</th>\n",
       "      <td>136.5000</td>\n",
       "      <td>137.0000</td>\n",
       "      <td>135.5625</td>\n",
       "      <td>135.5625</td>\n",
       "      <td>4006500.0</td>\n",
       "      <td>NaN</td>\n",
       "      <td>NaN</td>\n",
       "      <td>NaN</td>\n",
       "      <td>NaN</td>\n",
       "      <td>NaN</td>\n",
       "      <td>NaN</td>\n",
       "      <td>NaN</td>\n",
       "      <td>NaN</td>\n",
       "      <td>NaN</td>\n",
       "      <td>NaN</td>\n",
       "      <td>NaN</td>\n",
       "      <td>0</td>\n",
       "      <td>30</td>\n",
       "      <td>70</td>\n",
       "    </tr>\n",
       "    <tr>\n",
       "      <th>1999-11-02</th>\n",
       "      <td>135.9687</td>\n",
       "      <td>137.2500</td>\n",
       "      <td>134.5937</td>\n",
       "      <td>134.5937</td>\n",
       "      <td>6516900.0</td>\n",
       "      <td>NaN</td>\n",
       "      <td>NaN</td>\n",
       "      <td>NaN</td>\n",
       "      <td>NaN</td>\n",
       "      <td>NaN</td>\n",
       "      <td>NaN</td>\n",
       "      <td>NaN</td>\n",
       "      <td>NaN</td>\n",
       "      <td>0.000000</td>\n",
       "      <td>-0.007172</td>\n",
       "      <td>NaN</td>\n",
       "      <td>0</td>\n",
       "      <td>30</td>\n",
       "      <td>70</td>\n",
       "    </tr>\n",
       "    <tr>\n",
       "      <th>1999-11-03</th>\n",
       "      <td>136.0000</td>\n",
       "      <td>136.3750</td>\n",
       "      <td>135.1250</td>\n",
       "      <td>135.5000</td>\n",
       "      <td>7222300.0</td>\n",
       "      <td>NaN</td>\n",
       "      <td>NaN</td>\n",
       "      <td>NaN</td>\n",
       "      <td>NaN</td>\n",
       "      <td>NaN</td>\n",
       "      <td>NaN</td>\n",
       "      <td>NaN</td>\n",
       "      <td>NaN</td>\n",
       "      <td>50.185503</td>\n",
       "      <td>-0.000461</td>\n",
       "      <td>NaN</td>\n",
       "      <td>0</td>\n",
       "      <td>30</td>\n",
       "      <td>70</td>\n",
       "    </tr>\n",
       "    <tr>\n",
       "      <th>1999-11-04</th>\n",
       "      <td>136.7500</td>\n",
       "      <td>137.3593</td>\n",
       "      <td>135.7656</td>\n",
       "      <td>136.5312</td>\n",
       "      <td>7907500.0</td>\n",
       "      <td>NaN</td>\n",
       "      <td>NaN</td>\n",
       "      <td>NaN</td>\n",
       "      <td>NaN</td>\n",
       "      <td>NaN</td>\n",
       "      <td>NaN</td>\n",
       "      <td>NaN</td>\n",
       "      <td>NaN</td>\n",
       "      <td>69.153995</td>\n",
       "      <td>0.007120</td>\n",
       "      <td>NaN</td>\n",
       "      <td>0</td>\n",
       "      <td>30</td>\n",
       "      <td>70</td>\n",
       "    </tr>\n",
       "    <tr>\n",
       "      <th>1999-11-05</th>\n",
       "      <td>138.6250</td>\n",
       "      <td>139.1093</td>\n",
       "      <td>136.7812</td>\n",
       "      <td>137.8750</td>\n",
       "      <td>7431500.0</td>\n",
       "      <td>NaN</td>\n",
       "      <td>NaN</td>\n",
       "      <td>NaN</td>\n",
       "      <td>NaN</td>\n",
       "      <td>NaN</td>\n",
       "      <td>NaN</td>\n",
       "      <td>NaN</td>\n",
       "      <td>NaN</td>\n",
       "      <td>79.896816</td>\n",
       "      <td>0.016915</td>\n",
       "      <td>NaN</td>\n",
       "      <td>0</td>\n",
       "      <td>30</td>\n",
       "      <td>70</td>\n",
       "    </tr>\n",
       "  </tbody>\n",
       "</table>\n",
       "</div>"
      ],
      "text/plain": [
       "                open      high       low     close     volume  SMA_50  \\\n",
       "date                                                                    \n",
       "1999-11-01  136.5000  137.0000  135.5625  135.5625  4006500.0     NaN   \n",
       "1999-11-02  135.9687  137.2500  134.5937  134.5937  6516900.0     NaN   \n",
       "1999-11-03  136.0000  136.3750  135.1250  135.5000  7222300.0     NaN   \n",
       "1999-11-04  136.7500  137.3593  135.7656  136.5312  7907500.0     NaN   \n",
       "1999-11-05  138.6250  139.1093  136.7812  137.8750  7431500.0     NaN   \n",
       "\n",
       "            SMA_200  BBL_20_2.0  BBM_20_2.0  BBU_20_2.0  MACD_12_26_9  \\\n",
       "date                                                                    \n",
       "1999-11-01      NaN         NaN         NaN         NaN           NaN   \n",
       "1999-11-02      NaN         NaN         NaN         NaN           NaN   \n",
       "1999-11-03      NaN         NaN         NaN         NaN           NaN   \n",
       "1999-11-04      NaN         NaN         NaN         NaN           NaN   \n",
       "1999-11-05      NaN         NaN         NaN         NaN           NaN   \n",
       "\n",
       "            MACDh_12_26_9  MACDs_12_26_9     RSI_14  CUMLOGRET_1  \\\n",
       "date                                                               \n",
       "1999-11-01            NaN            NaN        NaN          NaN   \n",
       "1999-11-02            NaN            NaN   0.000000    -0.007172   \n",
       "1999-11-03            NaN            NaN  50.185503    -0.000461   \n",
       "1999-11-04            NaN            NaN  69.153995     0.007120   \n",
       "1999-11-05            NaN            NaN  79.896816     0.016915   \n",
       "\n",
       "            SMA_5_CUMLOGRET  0  30  70  \n",
       "date                                    \n",
       "1999-11-01              NaN  0  30  70  \n",
       "1999-11-02              NaN  0  30  70  \n",
       "1999-11-03              NaN  0  30  70  \n",
       "1999-11-04              NaN  0  30  70  \n",
       "1999-11-05              NaN  0  30  70  "
      ]
     },
     "execution_count": 28,
     "metadata": {},
     "output_type": "execute_result"
    }
   ],
   "source": [
    "spy = watch.load(\"SPY\", timed=True)\n",
    "# Apply constants to the DataFrame for indicators\n",
    "spy.ta.constants(True, [0, 30, 70])\n",
    "spy.head()"
   ]
  },
  {
   "cell_type": "code",
   "execution_count": null,
   "metadata": {},
   "outputs": [],
   "source": []
  },
  {
   "cell_type": "markdown",
   "metadata": {},
   "source": [
    "# Additional Strategy Options"
   ]
  },
  {
   "cell_type": "markdown",
   "metadata": {},
   "source": [
    "The ```params``` keyword takes a _tuple_ as a shorthand to the parameter arguments in order.\n",
    "* **Note**: If the indicator arguments change, so will results. Breaking Changes will **always** be posted on the README.\n",
    "\n",
    "The ```col_numbers``` keyword takes a _tuple_ specifying which column to return if the result is a DataFrame."
   ]
  },
  {
   "cell_type": "code",
   "execution_count": 29,
   "metadata": {},
   "outputs": [
    {
     "data": {
      "text/plain": [
       "Strategy(name='EMA, MACD History, Outter BBands, Log Returns', ta=[{'kind': 'ema', 'params': (10,)}, {'kind': 'macd', 'params': (9, 19, 10), 'col_numbers': (1,)}, {'kind': 'bbands', 'col_numbers': (0, 2), 'col_names': ('LB', 'UB')}, {'kind': 'log_return', 'params': (5, False)}], description='EMA, MACD History, BBands(LB, UB), and Log Returns Strategy', created='09/27/2020, 09:24:11')"
      ]
     },
     "execution_count": 29,
     "metadata": {},
     "output_type": "execute_result"
    }
   ],
   "source": [
    "params_ta = [\n",
    "    {\"kind\":\"ema\", \"params\": (10,)},\n",
    "    # params sets MACD's keyword arguments: fast=9, slow=19, signal=10\n",
    "    # and returning the 2nd column: histogram\n",
    "    {\"kind\":\"macd\", \"params\": (9, 19, 10), \"col_numbers\": (1,)},\n",
    "    # Selects the Lower and Upper Bands and renames them LB and UB, ignoring the MB\n",
    "    {\"kind\":\"bbands\", \"col_numbers\": (0,2), \"col_names\": (\"LB\", \"UB\")},\n",
    "    {\"kind\":\"log_return\", \"params\": (5, False)},\n",
    "]\n",
    "params_ta_strategy = ta.Strategy(\n",
    "    \"EMA, MACD History, Outter BBands, Log Returns\", # name\n",
    "    params_ta, # ta\n",
    "    \"EMA, MACD History, BBands(LB, UB), and Log Returns Strategy\" # description\n",
    ")\n",
    "params_ta_strategy"
   ]
  },
  {
   "cell_type": "code",
   "execution_count": 30,
   "metadata": {},
   "outputs": [
    {
     "data": {
      "text/plain": [
       "'EMA, MACD History, Outter BBands, Log Returns'"
      ]
     },
     "execution_count": 30,
     "metadata": {},
     "output_type": "execute_result"
    }
   ],
   "source": [
    "# Update the Watchlist\n",
    "watch.strategy = params_ta_strategy\n",
    "watch.strategy.name"
   ]
  },
  {
   "cell_type": "code",
   "execution_count": 31,
   "metadata": {},
   "outputs": [
    {
     "name": "stdout",
     "output_type": "stream",
     "text": [
      "[i] Loaded['D']: SPY_D.csv\n",
      "[i] Runtime: 334.7583 ms (0.3348 s)\n"
     ]
    },
    {
     "data": {
      "text/html": [
       "<div>\n",
       "<style scoped>\n",
       "    .dataframe tbody tr th:only-of-type {\n",
       "        vertical-align: middle;\n",
       "    }\n",
       "\n",
       "    .dataframe tbody tr th {\n",
       "        vertical-align: top;\n",
       "    }\n",
       "\n",
       "    .dataframe thead th {\n",
       "        text-align: right;\n",
       "    }\n",
       "</style>\n",
       "<table border=\"1\" class=\"dataframe\">\n",
       "  <thead>\n",
       "    <tr style=\"text-align: right;\">\n",
       "      <th></th>\n",
       "      <th>open</th>\n",
       "      <th>high</th>\n",
       "      <th>low</th>\n",
       "      <th>close</th>\n",
       "      <th>volume</th>\n",
       "      <th>EMA_10</th>\n",
       "      <th>MACDh_9_19_10</th>\n",
       "      <th>LB</th>\n",
       "      <th>UB</th>\n",
       "      <th>LOGRET_5</th>\n",
       "    </tr>\n",
       "    <tr>\n",
       "      <th>date</th>\n",
       "      <th></th>\n",
       "      <th></th>\n",
       "      <th></th>\n",
       "      <th></th>\n",
       "      <th></th>\n",
       "      <th></th>\n",
       "      <th></th>\n",
       "      <th></th>\n",
       "      <th></th>\n",
       "      <th></th>\n",
       "    </tr>\n",
       "  </thead>\n",
       "  <tbody>\n",
       "    <tr>\n",
       "      <th>2020-09-21</th>\n",
       "      <td>325.70</td>\n",
       "      <td>327.130</td>\n",
       "      <td>321.73</td>\n",
       "      <td>326.97</td>\n",
       "      <td>99450829.0</td>\n",
       "      <td>335.623943</td>\n",
       "      <td>-2.280086</td>\n",
       "      <td>323.348645</td>\n",
       "      <td>345.631355</td>\n",
       "      <td>-0.034537</td>\n",
       "    </tr>\n",
       "    <tr>\n",
       "      <th>2020-09-22</th>\n",
       "      <td>328.57</td>\n",
       "      <td>330.900</td>\n",
       "      <td>325.86</td>\n",
       "      <td>330.30</td>\n",
       "      <td>63612107.0</td>\n",
       "      <td>334.655954</td>\n",
       "      <td>-2.066826</td>\n",
       "      <td>323.032323</td>\n",
       "      <td>341.999677</td>\n",
       "      <td>-0.029444</td>\n",
       "    </tr>\n",
       "    <tr>\n",
       "      <th>2020-09-23</th>\n",
       "      <td>330.90</td>\n",
       "      <td>331.200</td>\n",
       "      <td>322.10</td>\n",
       "      <td>322.64</td>\n",
       "      <td>93112240.0</td>\n",
       "      <td>332.471235</td>\n",
       "      <td>-2.419469</td>\n",
       "      <td>319.513906</td>\n",
       "      <td>339.046094</td>\n",
       "      <td>-0.048932</td>\n",
       "    </tr>\n",
       "    <tr>\n",
       "      <th>2020-09-24</th>\n",
       "      <td>321.22</td>\n",
       "      <td>326.797</td>\n",
       "      <td>319.80</td>\n",
       "      <td>323.50</td>\n",
       "      <td>76681332.0</td>\n",
       "      <td>330.840101</td>\n",
       "      <td>-2.375870</td>\n",
       "      <td>319.375853</td>\n",
       "      <td>334.248147</td>\n",
       "      <td>-0.037436</td>\n",
       "    </tr>\n",
       "    <tr>\n",
       "      <th>2020-09-25</th>\n",
       "      <td>322.58</td>\n",
       "      <td>329.580</td>\n",
       "      <td>321.64</td>\n",
       "      <td>328.73</td>\n",
       "      <td>68610432.0</td>\n",
       "      <td>330.456446</td>\n",
       "      <td>-1.735596</td>\n",
       "      <td>319.831980</td>\n",
       "      <td>333.024020</td>\n",
       "      <td>-0.005824</td>\n",
       "    </tr>\n",
       "  </tbody>\n",
       "</table>\n",
       "</div>"
      ],
      "text/plain": [
       "              open     high     low   close      volume      EMA_10  \\\n",
       "date                                                                  \n",
       "2020-09-21  325.70  327.130  321.73  326.97  99450829.0  335.623943   \n",
       "2020-09-22  328.57  330.900  325.86  330.30  63612107.0  334.655954   \n",
       "2020-09-23  330.90  331.200  322.10  322.64  93112240.0  332.471235   \n",
       "2020-09-24  321.22  326.797  319.80  323.50  76681332.0  330.840101   \n",
       "2020-09-25  322.58  329.580  321.64  328.73  68610432.0  330.456446   \n",
       "\n",
       "            MACDh_9_19_10          LB          UB  LOGRET_5  \n",
       "date                                                         \n",
       "2020-09-21      -2.280086  323.348645  345.631355 -0.034537  \n",
       "2020-09-22      -2.066826  323.032323  341.999677 -0.029444  \n",
       "2020-09-23      -2.419469  319.513906  339.046094 -0.048932  \n",
       "2020-09-24      -2.375870  319.375853  334.248147 -0.037436  \n",
       "2020-09-25      -1.735596  319.831980  333.024020 -0.005824  "
      ]
     },
     "execution_count": 31,
     "metadata": {},
     "output_type": "execute_result"
    }
   ],
   "source": [
    "spy = watch.load(\"SPY\", timed=True)\n",
    "spy.tail()"
   ]
  },
  {
   "cell_type": "code",
   "execution_count": null,
   "metadata": {},
   "outputs": [],
   "source": []
  }
 ],
 "metadata": {
  "kernelspec": {
   "display_name": "Python 3",
   "language": "python",
   "name": "python3"
  },
  "language_info": {
   "codemirror_mode": {
    "name": "ipython",
    "version": 3
   },
   "file_extension": ".py",
   "mimetype": "text/x-python",
   "name": "python",
   "nbconvert_exporter": "python",
   "pygments_lexer": "ipython3",
   "version": "3.8.2"
  }
 },
 "nbformat": 4,
 "nbformat_minor": 4
}
